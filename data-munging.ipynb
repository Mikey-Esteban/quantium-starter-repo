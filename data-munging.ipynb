{
 "cells": [
  {
   "cell_type": "code",
   "execution_count": 110,
   "id": "81156819",
   "metadata": {},
   "outputs": [],
   "source": [
    "import csv"
   ]
  },
  {
   "cell_type": "code",
   "execution_count": 111,
   "id": "5287c9a9",
   "metadata": {},
   "outputs": [],
   "source": [
    "from datetime import datetime"
   ]
  },
  {
   "cell_type": "code",
   "execution_count": 112,
   "id": "fde99d7d",
   "metadata": {},
   "outputs": [],
   "source": [
    "csvs = ['./data/daily_sales_data_0.csv', './data/daily_sales_data_1.csv', './data/daily_sales_data_2.csv']"
   ]
  },
  {
   "cell_type": "code",
   "execution_count": 113,
   "id": "57e889a4",
   "metadata": {},
   "outputs": [],
   "source": [
    "pink_morsels = []"
   ]
  },
  {
   "cell_type": "code",
   "execution_count": 114,
   "id": "7e070be6",
   "metadata": {},
   "outputs": [],
   "source": [
    "for file in csvs:\n",
    "\n",
    "    with open(file, newline='') as csvfile:\n",
    "        spamreader = csv.reader(csvfile, delimiter=',')\n",
    "        for row in spamreader:\n",
    "            if row[0] == 'pink morsel':\n",
    "                pink_morsels.append(row)\n",
    "    "
   ]
  },
  {
   "cell_type": "code",
   "execution_count": 115,
   "id": "6d3689d8",
   "metadata": {},
   "outputs": [],
   "source": [
    "final_pink_morsels = []"
   ]
  },
  {
   "cell_type": "code",
   "execution_count": 116,
   "id": "dadfe2c6",
   "metadata": {},
   "outputs": [],
   "source": [
    "for item in pink_morsels:\n",
    "    price = float(item[1].strip('$'))\n",
    "    quantity = int(item[2])\n",
    "    sales = price * quantity\n",
    "    data = [sales, item[3], item[4]]\n",
    "    final_pink_morsels.append(data)\n",
    "    \n",
    "    "
   ]
  },
  {
   "cell_type": "code",
   "execution_count": 117,
   "id": "8542096c",
   "metadata": {},
   "outputs": [],
   "source": [
    "with open(\"./data/pink_morsel_sales.csv\", \"w\", newline=\"\") as f:\n",
    "    writer = csv.writer(f)\n",
    "    writer.writerows(final_pink_morsels)"
   ]
  }
 ],
 "metadata": {
  "kernelspec": {
   "display_name": "Python 3 (ipykernel)",
   "language": "python",
   "name": "python3"
  },
  "language_info": {
   "codemirror_mode": {
    "name": "ipython",
    "version": 3
   },
   "file_extension": ".py",
   "mimetype": "text/x-python",
   "name": "python",
   "nbconvert_exporter": "python",
   "pygments_lexer": "ipython3",
   "version": "3.9.12"
  }
 },
 "nbformat": 4,
 "nbformat_minor": 5
}
